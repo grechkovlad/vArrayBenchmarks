{
 "cells": [
  {
   "cell_type": "code",
   "execution_count": 55,
   "id": "bec37a74",
   "metadata": {},
   "outputs": [],
   "source": [
    "import matplotlib.pyplot as plt"
   ]
  },
  {
   "cell_type": "code",
   "execution_count": 56,
   "id": "750030d3",
   "metadata": {},
   "outputs": [],
   "source": [
    "data = open(\"raw_data_hotspot.txt\").readlines()\n",
    "data = list(map(lambda x : (x.split()[0], int(x.split()[1]), float(x.split()[3].replace(',', '.'))), data))"
   ]
  },
  {
   "cell_type": "code",
   "execution_count": 57,
   "id": "4fffba4f",
   "metadata": {},
   "outputs": [],
   "source": [
    "elem_types = [\"Point2D\", \"Rectangle\", \"Triangle\"]\n",
    "flatten_types = [\"Boxed\", \"PerType\", \"PerSize\", \"TwoArrays\"]\n",
    "scenarios = [\"Create\", \"ReadInRandomOrder\", \"WriteInRandomOrder\", \"ReadInNaturalOrder\", \"WriteInNaturalOrder\", \"ComplexScenario\"]\n",
    "ns = [10, 1000, 100000]"
   ]
  },
  {
   "cell_type": "code",
   "execution_count": 58,
   "id": "d0f3cb18",
   "metadata": {},
   "outputs": [],
   "source": [
    "def get_time(elem_type, scenario, n, flatten_type):\n",
    "    bench_name = \"VArrays.run_%s_%s_%s\" % (elem_type, scenario, flatten_type)\n",
    "    return next(row[2] for row in data if row[0] == bench_name and row[1] == n)"
   ]
  },
  {
   "cell_type": "code",
   "execution_count": 69,
   "id": "9e9cec45",
   "metadata": {},
   "outputs": [],
   "source": [
    "def plot(elem_type, scenario, n, flatten_types, times):\n",
    "    plt.bar(range(0, len(flatten_types)),height=times,tick_label=flatten_types)\n",
    "    plt.ylabel('Time (ns)')\n",
    "    plt.title(\"%s, %s, n=%d\" % (elem_type, scenario, n))\n",
    "    plt.savefig('plots/%s_%s_%d.png' % (elem_type, scenario, n))\n",
    "    plt.close()"
   ]
  },
  {
   "cell_type": "code",
   "execution_count": 70,
   "id": "05dba988",
   "metadata": {},
   "outputs": [],
   "source": [
    "for elem_type in elem_types: \n",
    "    for scenario in scenarios:\n",
    "        for n in ns:\n",
    "            times = list(map(lambda flatten_type : get_time(elem_type, scenario, n, flatten_type), flatten_types))\n",
    "            plot(elem_type, scenario, n, flatten_types, times)"
   ]
  }
 ],
 "metadata": {
  "kernelspec": {
   "display_name": "Python 3 (ipykernel)",
   "language": "python",
   "name": "python3"
  },
  "language_info": {
   "codemirror_mode": {
    "name": "ipython",
    "version": 3
   },
   "file_extension": ".py",
   "mimetype": "text/x-python",
   "name": "python",
   "nbconvert_exporter": "python",
   "pygments_lexer": "ipython3",
   "version": "3.10.9"
  }
 },
 "nbformat": 4,
 "nbformat_minor": 5
}
