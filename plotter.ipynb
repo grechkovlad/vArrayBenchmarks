{
 "cells": [
  {
   "cell_type": "code",
   "execution_count": 43,
   "id": "bec37a74",
   "metadata": {},
   "outputs": [],
   "source": [
    "import matplotlib.pyplot as plt\n",
    "import matplotlib.patches as mpatches\n",
    "from decimal import Decimal"
   ]
  },
  {
   "cell_type": "code",
   "execution_count": 44,
   "id": "750030d3",
   "metadata": {},
   "outputs": [],
   "source": [
    "data_hotspot = open(\"raw_data_hotspot.txt\").readlines()\n",
    "data_hotspot = list(map(lambda x : (x.split()[0], int(x.split()[1]), float(x.split()[3].replace(',', '.'))), data_hotspot))"
   ]
  },
  {
   "cell_type": "code",
   "execution_count": 45,
   "id": "4706514f",
   "metadata": {},
   "outputs": [],
   "source": [
    "data_art = open(\"raw_data_art.txt\").readlines()\n",
    "data_art = list(map(lambda x : (x.split()[5], float(x.split()[0].replace(\",\", \"\"))), data_art))"
   ]
  },
  {
   "cell_type": "code",
   "execution_count": 46,
   "id": "4fffba4f",
   "metadata": {},
   "outputs": [],
   "source": [
    "elem_types = [\"Point2D\", \"Rectangle\", \"Triangle\"]\n",
    "flatten_types = [\"Boxed\", \"PerType\", \"PerSize\", \"ThreeArrays\", \"TwoArrays\"]\n",
    "scenarios = [\"Create\", \"ReadInRandomOrder\", \"WriteInRandomOrder\", \"ReadInNaturalOrder\", \"WriteInNaturalOrder\", \"ComplexScenario\"]\n",
    "ns = [10, 1000, 100000]\n",
    "ns_str = [\"SMALL\", \"MEDIUM\", \"BIG\"]"
   ]
  },
  {
   "cell_type": "code",
   "execution_count": 47,
   "id": "d0f3cb18",
   "metadata": {},
   "outputs": [],
   "source": [
    "def get_time_hotspot(elem_type, scenario, n, flatten_type):\n",
    "    bench_name = \"JmhBenchmark.run_%s_%s_%s\" % (elem_type, scenario, flatten_type)\n",
    "    return next(row[2] for row in data_hotspot if row[0] == bench_name and row[1] == n)"
   ]
  },
  {
   "cell_type": "code",
   "execution_count": 48,
   "id": "abf926c3",
   "metadata": {},
   "outputs": [],
   "source": [
    "def get_time_art(elem_type, scenario, n_str, flatten_type):\n",
    "    bench_name = \"ARTBenchmark.run_%s_%s_%s_%s\" % (elem_type, scenario, flatten_type, n_str)\n",
    "    return next(row[1] for row in data_art if row[0] == bench_name)"
   ]
  },
  {
   "cell_type": "code",
   "execution_count": 49,
   "id": "375c0fe4",
   "metadata": {},
   "outputs": [],
   "source": [
    "n_to_color = {10 : 'green', 1000 : 'blue', 100000 : 'orange'}\n",
    "n_str_to_color = {\"SMALL\" : 'green', \"MEDIUM\" : 'blue', \"BIG\" : 'orange'}\n",
    "bar_colors = ['green', 'blue', 'orange']"
   ]
  },
  {
   "cell_type": "code",
   "execution_count": 50,
   "id": "9e9cec45",
   "metadata": {},
   "outputs": [],
   "source": [
    "def plot_hotspot(elem_type, scenario):\n",
    "    times = []\n",
    "    for n in ns:\n",
    "        for flatten_type in flatten_types:\n",
    "            times.append(get_time_hotspot(elem_type, scenario, n, flatten_type))\n",
    "    plot(elem_type, scenario, \"HotSpot\", times)"
   ]
  },
  {
   "cell_type": "code",
   "execution_count": 51,
   "id": "717367a3",
   "metadata": {},
   "outputs": [],
   "source": [
    "def plot_art(elem_type, scenario):\n",
    "    times = []\n",
    "    for n in ns_str:\n",
    "        for flatten_type in flatten_types:\n",
    "            times.append(get_time_art(elem_type, scenario, n, flatten_type))\n",
    "    plot(elem_type, scenario, \"ART\", times)"
   ]
  },
  {
   "cell_type": "code",
   "execution_count": 52,
   "id": "f3e94b27",
   "metadata": {},
   "outputs": [],
   "source": [
    "def plot(elem_type, scenario, vm, times):\n",
    "    bar_legends = []\n",
    "    colors = []\n",
    "    for i in range(len(ns)):\n",
    "        for j in range(len(flatten_types)):\n",
    "            colors.append(bar_colors[i])\n",
    "            bar_legends.append(flatten_types[j])\n",
    "    plt.bar(range(0, len(times)),height=times, log=True, color=colors)\n",
    "    plt.xticks(range(0, len(times)), bar_legends, rotation='vertical')\n",
    "    plt.ylabel('Time (ns)')\n",
    "    plt.title(\"%s, %s, %s\" % (elem_type, scenario, vm))\n",
    "    patches = [mpatches.Patch(color=color, label='n = %d' % n) for n, color in n_to_color.items()]\n",
    "    plt.legend(handles=patches)\n",
    "    plt.savefig('plots/%s_%s_%s.png' % (elem_type, scenario, vm), bbox_inches='tight')\n",
    "    plt.close()"
   ]
  },
  {
   "cell_type": "code",
   "execution_count": 53,
   "id": "05dba988",
   "metadata": {},
   "outputs": [],
   "source": [
    "for elem_type in elem_types: \n",
    "    for scenario in scenarios:\n",
    "        for n in ns:\n",
    "            plot_hotspot(elem_type, scenario)\n",
    "            plot_art(elem_type, scenario)"
   ]
  },
  {
   "cell_type": "code",
   "execution_count": null,
   "id": "ac1484fe",
   "metadata": {},
   "outputs": [],
   "source": []
  }
 ],
 "metadata": {
  "kernelspec": {
   "display_name": "Python 3 (ipykernel)",
   "language": "python",
   "name": "python3"
  },
  "language_info": {
   "codemirror_mode": {
    "name": "ipython",
    "version": 3
   },
   "file_extension": ".py",
   "mimetype": "text/x-python",
   "name": "python",
   "nbconvert_exporter": "python",
   "pygments_lexer": "ipython3",
   "version": "3.10.9"
  }
 },
 "nbformat": 4,
 "nbformat_minor": 5
}
